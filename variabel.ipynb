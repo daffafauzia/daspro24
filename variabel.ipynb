{
 "cells": [
  {
   "cell_type": "code",
   "execution_count": 6,
   "id": "5e4d25d2-c3ea-4ae9-a248-09088274011e",
   "metadata": {},
   "outputs": [
    {
     "name": "stdout",
     "output_type": "stream",
     "text": [
      "Nama : Dedi\n",
      "umur : 20\n",
      "Alamat : Jl. Cibolang\n",
      "Nilai Pemrograman : 80.5\n",
      "Status Menikah : False\n"
     ]
    }
   ],
   "source": [
    "name = \"Dedi\"\n",
    "age = 20\n",
    "address, province = \"Jl. Cibolang\",\"7413412\"\n",
    "scorePhyton = 80.5\n",
    "isMarried = False\n",
    "\n",
    "print(\"Nama :\",name)\n",
    "print(\"umur :\",age)\n",
    "print(\"Alamat :\",address)\n",
    "print(\"Nilai Pemrograman :\",scorePhyton)\n",
    "print(\"Status Menikah :\",isMarried)"
   ]
  },
  {
   "cell_type": "code",
   "execution_count": 10,
   "id": "eff980b0-b1ae-4478-aafd-640fec600595",
   "metadata": {},
   "outputs": [
    {
     "name": "stdout",
     "output_type": "stream",
     "text": [
      "Tipe Data <name> <class 'str'>\n",
      "Tipe Data <age> <class 'int'>\n",
      "Tipe Data <address> <class 'str'>\n",
      "Tipe Data <province> <class 'str'>\n",
      "Tipe Data <scorePhyton> <class 'float'>\n",
      "Tipe Data <isMarried> <class 'bool'>\n"
     ]
    }
   ],
   "source": [
    "print(\"Tipe Data <name>\",type(name))\n",
    "print(\"Tipe Data <age>\",type(age))\n",
    "print(\"Tipe Data <address>\",type(address))\n",
    "print(\"Tipe Data <province>\",type(province))\n",
    "print(\"Tipe Data <scorePhyton>\",type(scorePhyton))\n",
    "print(\"Tipe Data <isMarried>\",type(isMarried))\n"
   ]
  },
  {
   "cell_type": "code",
   "execution_count": 93,
   "id": "f6dccefa-55d9-4d18-a3c2-4045ea5f9a86",
   "metadata": {},
   "outputs": [
    {
     "name": "stdout",
     "output_type": "stream",
     "text": [
      "7413412-7413412.0-7413412.0\n",
      "20-20.0-True\n",
      "80.5-80-True\n",
      "0-0.0-False\n"
     ]
    }
   ],
   "source": [
    "#Casting atau Konversi Tipe Data\n",
    "#Konversi dari String ke (int,float,bool)\n",
    "strToInt = int(province)\n",
    "strToFloat = float(province)\n",
    "strToBool = float(province)\n",
    "print(strToInt,strToFloat,strToBool, sep=\"-\")\n",
    "\n",
    "#Konversi dari int ke (str,float,bool)\n",
    "intToStr = str(age)\n",
    "intToFloat = float(age)\n",
    "intToBool = bool(age)\n",
    "print(intToStr,intToFloat,intToBool, sep=\"-\")\n",
    "\n",
    "#Konversi dari float ke (str,int,bool)\n",
    "floatToStr = str(scorePhyton)\n",
    "floatToInt = int(scorePhyton)\n",
    "floatToBool = bool(scorePhyton)\n",
    "print(floatToStr,floatToInt,floatToBool, sep=\"-\")\n",
    "\n",
    "#Konversi dari bool ke (int,float,str)\n",
    "boolToInt = int(isMarried)\n",
    "boolToFloat = float(isMarried)\n",
    "boolToStr = str(isMarried)\n",
    "print(boolToInt,boolToFloat,boolToStr, sep=\"-\")"
   ]
  },
  {
   "cell_type": "code",
   "execution_count": 20,
   "id": "d41386aa-71e8-4979-bdbe-322a7beb0829",
   "metadata": {},
   "outputs": [
    {
     "name": "stdout",
     "output_type": "stream",
     "text": [
      "B\n",
      "g\n"
     ]
    }
   ],
   "source": [
    "city = \"Bandung\"\n",
    "lenCity = len(city)\n",
    "print(city[0])\n",
    "print(city[lenCity-1])"
   ]
  },
  {
   "cell_type": "code",
   "execution_count": 95,
   "id": "aeb0fafe-e219-4065-b8e3-1258d6a12cbf",
   "metadata": {},
   "outputs": [
    {
     "name": "stdout",
     "output_type": "stream",
     "text": [
      "Nilai Desimal:  200\n",
      "Nilai Desimal dari 0xff:  255\n",
      "Nilai Desimal dari 0b1010:  10\n",
      "Nilai Desimal dari 0o377:  255\n",
      "===============\n",
      "Nilai Biner dari :  200 0b11001000\n",
      "Nilai Octal dari :  200 0o310\n",
      "Nilai Hexa dari :  200 0xc8\n"
     ]
    }
   ],
   "source": [
    "desimal = 200\n",
    "hexa = 0xff\n",
    "biner = 0b1010\n",
    "octal = 0o377\n",
    "print(\"Nilai Desimal: \", desimal)\n",
    "print(\"Nilai Desimal dari 0xff: \", hexa)\n",
    "print(\"Nilai Desimal dari 0b1010: \", biner)\n",
    "print(\"Nilai Desimal dari 0o377: \", octal)\n",
    "print(\"===============\")\n",
    "print(\"Nilai Biner dari : \", desimal, bin(desimal))\n",
    "print(\"Nilai Octal dari : \", desimal, oct(desimal))\n",
    "print(\"Nilai Hexa dari : \", desimal, hex(desimal))\n",
    "\n"
   ]
  },
  {
   "cell_type": "code",
   "execution_count": 8,
   "id": "9d5609c1-d25b-4cd1-b130-cb48497a92f9",
   "metadata": {},
   "outputs": [
    {
     "name": "stdout",
     "output_type": "stream",
     "text": [
      "['Sukabumi', 'Bandung', 'Bogor', 'Jakarta']\n",
      "Sukabumi\n",
      "Jakarta\n",
      "['Sukabumi', 'Medan', 'Bogor', 'Jakarta']\n",
      "J\n",
      "('Andi', 'Budi', 'Caca')\n",
      "{'name': 'Dedi', 'addres': {'street': 'Bandung', 'number': 21, 'province': 'West Java'}, 'age': 20, 'isMarried': True}\n",
      "West Java\n",
      "{'name': 'Budi', 'addres': {'street': 'Bogor', 'number': 25, 'province': 'West Java'}, 'age': 20, 'isMarried': False}\n",
      "o\n",
      "23\n"
     ]
    }
   ],
   "source": [
    "#Tipe data Colection\n",
    "#List\n",
    "cities = [\"Sukabumi\",\"Bandung\",\"Bogor\",\"Jakarta\"]\n",
    "print(cities)\n",
    "print(cities[0])\n",
    "print(cities[len(cities)-1])\n",
    "cities[1] = \"Medan\"\n",
    "print(cities)\n",
    "print(cities[len(cities)-1][0])\n",
    "#Tuple\n",
    "names = (\"Andi\",\"Budi\",\"Caca\")\n",
    "print(names)\n",
    "#names[0] = \"Rudi\" akan menyebabkan error, karena tuple adalah immutable\n",
    "\n",
    "studentData = {\n",
    "    \"name\" : \"Dedi\",\n",
    "    \"addres\" :{\n",
    "        \"street\" : \"Bandung\",\n",
    "        \"number\" : 21,\n",
    "        \"province\" : \"West Java\"\n",
    "    },\n",
    "    \"age\" : 20,\n",
    "    \"isMarried\" : True\n",
    "}\n",
    "#ListStudent\n",
    "listStudent = [\n",
    "    {\n",
    "        \"name\" : \"Dedi\",\n",
    "        \"addres\" : {\n",
    "        \"street\" : \"Bandung\",\n",
    "        \"number\" : 21,\n",
    "        \"province\" : \"West Java\"\n",
    "    },\n",
    "        \"hobbies\" : \"FootBall\" , \n",
    "        \"age\" : 23,\n",
    "        \"isMarried\" : True\n",
    "    },\n",
    "    {\n",
    "        \"name\" : \"Budi\",\n",
    "        \"addres\" : {\n",
    "        \"street\" : \"Bogor\",\n",
    "        \"number\" : 25,\n",
    "        \"province\" : \"West Java\"\n",
    "    },\n",
    "        \"age\" : 20,\n",
    "        \"isMarried\" : False\n",
    "    }\n",
    "]\n",
    "print(studentData)\n",
    "print(studentData[\"addres\"][\"province\"])#Wst Java\n",
    "print(listStudent[1])#Semua data dari Budi\n",
    "print(listStudent[0] [\"hobbies\"][1])#FootBall - hobi dedi urutan ke-2\n",
    "print(listStudent[0][\"age\"])#23 - umur Dedi"
   ]
  },
  {
   "cell_type": "code",
   "execution_count": 6,
   "id": "2d8772f5-ffdd-4224-ac7f-07cd977343b4",
   "metadata": {},
   "outputs": [
    {
     "name": "stdout",
     "output_type": "stream",
     "text": [
      "{'name': 'Dika', 'nilai': '80'}\n",
      "{'Buah': 'Apel', 'Harga': '10000'}\n",
      "(('name', 'Dika'), ('nilai', '80'))\n",
      "(['Buah', 'Apel'], ['Harga', '10000'])\n",
      "{'nama': 'Adi', 'age': 20, 'addres': 'Bandung'}\n"
     ]
    }
   ],
   "source": [
    "#Casting dictionary\n",
    "list_tuple = [(\"name\",\"Dika\",),(\"nilai\",\"80\",)]\n",
    "dictStudent = dict(list_tuple)\n",
    "print(dictStudent)\n",
    "\n",
    "list_list = [(\"Buah\",\"Apel\"),(\"Harga\",\"10000\")]\n",
    "dictBuah = dict(list_list)\n",
    "print(dictBuah)\n",
    "\n",
    "tuple_tuple = (\"name\",\"Dika\"),(\"nilai\",\"80\")\n",
    "dictTuple = dict(tuple_tuple)\n",
    "print(tuple_tuple)\n",
    "\n",
    "tuple_list = ([\"Buah\",\"Apel\"],[\"Harga\",\"10000\"])\n",
    "dictList = dict(tuple_list)\n",
    "print(tuple_list)\n",
    "\n",
    "keys = [\"nama\",\"age\",\"addres\"]\n",
    "values = [\"Adi\",20,\"Bandung\"]\n",
    "dictData = dict(zip(keys,values))\n",
    "print(dictData)\n"
   ]
  },
  {
   "cell_type": "code",
   "execution_count": null,
   "id": "f37cb2e6-91f8-46cf-b0b6-2d26ed4e9548",
   "metadata": {},
   "outputs": [],
   "source": []
  }
 ],
 "metadata": {
  "kernelspec": {
   "display_name": "Python [conda env:base] *",
   "language": "python",
   "name": "conda-base-py"
  },
  "language_info": {
   "codemirror_mode": {
    "name": "ipython",
    "version": 3
   },
   "file_extension": ".py",
   "mimetype": "text/x-python",
   "name": "python",
   "nbconvert_exporter": "python",
   "pygments_lexer": "ipython3",
   "version": "3.12.7"
  }
 },
 "nbformat": 4,
 "nbformat_minor": 5
}
