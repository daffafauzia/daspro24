{
 "cells": [
  {
   "cell_type": "markdown",
   "id": "d012282c-43fc-470e-a8f7-9283e86d9440",
   "metadata": {},
   "source": [
    "<h1>NO 1</h1>\n",
    "<h4>Buatlah biodata sederhana dengan menggunakan fungsi input(), dan output variabel dengan fungsi format().</h4>\n"
   ]
  },
  {
   "cell_type": "code",
   "execution_count": 2,
   "id": "46a0be20-6f1c-4efe-90c9-8aeb1efd224e",
   "metadata": {},
   "outputs": [
    {
     "name": "stdin",
     "output_type": "stream",
     "text": [
      "Isikan nama depan: Daffa\n",
      "Isikan nama tengah: Fauzi \n",
      "Isikan nama belakang: Aqmar\n",
      "Masukkan nama Kampus: Universitas Nusa Putra \n",
      "Masukkan jurusan anda : Teknik Informatika\n",
      "Masukkan kelas anda: TI24A\n"
     ]
    },
    {
     "name": "stdout",
     "output_type": "stream",
     "text": [
      "==================================================================\n",
      "Biodata Diri : Daffa Fauzi  Aqmar\n",
      "Informasi Mahasiswa : Berkuliah di Universitas Nusa Putra  dengan jurusan Teknik Informatika dan berada di kelas TI24A\n"
     ]
    }
   ],
   "source": [
    "fName = input(\"Isikan nama depan:\")\n",
    "mName = input(\"Isikan nama tengah:\")\n",
    "lName = input(\"Isikan nama belakang:\")\n",
    "kampus = input(\"Masukkan nama Kampus:\")\n",
    "jurusan = input(\"Masukkan jurusan anda :\")\n",
    "kelas = input(\"Masukkan kelas anda:\")\n",
    "print(\"==================================================================\")\n",
    "print(\"Biodata Diri : {} {} {}\". format(fName,mName,lName))\n",
    "print(\"Informasi Mahasiswa : Berkuliah di {} dengan jurusan {} dan berada di kelas {}\". format(kampus,jurusan,kelas))"
   ]
  },
  {
   "cell_type": "markdown",
   "id": "79822935-a95c-4340-9a0b-bc6bd6bbac18",
   "metadata": {},
   "source": [
    "<h1>NO 2</h1>\n",
    "<h4>Jika terdapat kalimat UNIVERSITAS NUSA PUTRA SUKABUMI ,buatlah kode program untuk menampilkan output: <br>\n",
    "a. putra nusa <br>\n",
    "b. NIVERSITAS NSA PTRA SKABMI <br>\n",
    "c. SUKABUMI PUTRA NUSA UNIVERSITAS <br>\n",
    "d. UNPS <br>\n",
    "e. TAS SAPU BUMI</h4>"
   ]
  },
  {
   "cell_type": "code",
   "execution_count": 6,
   "id": "0f9260f8-e5ae-4e8f-8454-bd87efcd58fd",
   "metadata": {},
   "outputs": [
    {
     "name": "stdout",
     "output_type": "stream",
     "text": [
      "A. putra nusa\n",
      "B. NIVERSITAS NSA PTRA SKABMI\n",
      "C. SUKABUMI PUTRA NUSA UNIVERSITAS\n",
      "D. UNPS\n",
      "E. TAS SAPU BUMI\n"
     ]
    }
   ],
   "source": [
    "kalimat = \"UNIVERSITAS NUSA PUTRA SUKABUMI\"\n",
    "perkata = kalimat.split(' ')\n",
    "print(\"A.\", perkata[2].lower(), perkata[1].lower())\n",
    "print(\"B.\", kalimat.replace(\"U\", \"\"))\n",
    "print(\"C.\", perkata[3], perkata[2], perkata[1], perkata[0])\n",
    "print(\"D.\", perkata[0][0] + perkata[1][0] + perkata[2][0] + perkata[3][0])\n",
    "print(\"E.\", perkata[0][8:11], perkata[1][2:4] + perkata[2][0:2], perkata[3][4:8])"
   ]
  }
 ],
 "metadata": {
  "kernelspec": {
   "display_name": "Python [conda env:base] *",
   "language": "python",
   "name": "conda-base-py"
  },
  "language_info": {
   "codemirror_mode": {
    "name": "ipython",
    "version": 3
   },
   "file_extension": ".py",
   "mimetype": "text/x-python",
   "name": "python",
   "nbconvert_exporter": "python",
   "pygments_lexer": "ipython3",
   "version": "3.12.7"
  }
 },
 "nbformat": 4,
 "nbformat_minor": 5
}
