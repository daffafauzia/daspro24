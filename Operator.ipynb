{
 "cells": [
  {
   "cell_type": "markdown",
   "id": "7a1e1a3f-d6b6-4467-827d-614d74275db6",
   "metadata": {},
   "source": [
    "<h1>NO 1<h1>\n",
    "<h4>Buatlah biodata sederhana dengan menggunakan fungsi input(), dab output variabel dengan fungsi format</h4>"
   ]
  },
  {
   "cell_type": "code",
   "execution_count": null,
   "id": "caa6bc1f-d2d6-4503-a37b-fc06717acdf9",
   "metadata": {},
   "outputs": [],
   "source": [
    "cell_type : code\n",
    "execution_count : 6\n",
    "id : 46a0be20-6f1c-4efe-90c9-8aeb1efd224e\"\n",
    "\n",
    "name : stdin\n",
    "output_type : stream"
   ]
  }
 ],
 "metadata": {
  "kernelspec": {
   "display_name": "Python [conda env:base] *",
   "language": "python",
   "name": "conda-base-py"
  },
  "language_info": {
   "codemirror_mode": {
    "name": "ipython",
    "version": 3
   },
   "file_extension": ".py",
   "mimetype": "text/x-python",
   "name": "python",
   "nbconvert_exporter": "python",
   "pygments_lexer": "ipython3",
   "version": "3.12.7"
  }
 },
 "nbformat": 4,
 "nbformat_minor": 5
}
