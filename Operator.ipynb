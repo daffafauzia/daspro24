{
 "cells": [
  {
   "cell_type": "markdown",
   "id": "7a1e1a3f-d6b6-4467-827d-614d74275db6",
   "metadata": {},
   "source": [
    "<h1>Operator Aritmatika<h1>\n"
   ]
  },
  {
   "cell_type": "code",
   "execution_count": 3,
   "id": "caa6bc1f-d2d6-4503-a37b-fc06717acdf9",
   "metadata": {},
   "outputs": [
    {
     "name": "stdout",
     "output_type": "stream",
     "text": [
      "setiap teman budi mendapatkan 3 apel\n",
      "Total apel budi sekarang adalah 20 apel\n"
     ]
    }
   ],
   "source": [
    "#apel budi\n",
    "budi = 12\n",
    "#apel yang ingin budi bagikan kepada temannya\n",
    "teman = 4\n",
    "\n",
    "#bagikan apel secara merata \n",
    "apel = budi // teman\n",
    "print(f\"setiap teman budi mendapatkan {apel} apel\")\n",
    "\n",
    "#tembahan apel budat budi\n",
    "addApel = 8 \n",
    "total = budi + addApel\n",
    "print(f\"Total apel budi sekarang adalah {total} apel\")"
   ]
  },
  {
   "cell_type": "markdown",
   "id": "c816ae1d-9d5a-4df8-aea7-bb8e2661de19",
   "metadata": {},
   "source": [
    "<h1>Operator Perbandingan</h1>"
   ]
  },
  {
   "cell_type": "code",
   "execution_count": 6,
   "id": "39e0345b-bff9-4ccb-99a9-69027037de02",
   "metadata": {},
   "outputs": [
    {
     "name": "stdout",
     "output_type": "stream",
     "text": [
      "Andi lebih tinggi\n"
     ]
    }
   ],
   "source": [
    "siti = 160\n",
    "andi = 165\n",
    "\n",
    "#menenetukan siapa yang tinggi\n",
    "if siti > andi :\n",
    "    print(\"Siti lebih tinggi\")\n",
    "elif siti < andi :\n",
    "    print(\"Andi lebih tinggi\")\n",
    "else :\n",
    "    print(\"Keduanya sama tinggi\")"
   ]
  },
  {
   "cell_type": "markdown",
   "id": "0c2526c9-436b-4c7d-827f-d6391ab98038",
   "metadata": {},
   "source": [
    "<h1>Operator Logika</h1>"
   ]
  },
  {
   "cell_type": "code",
   "execution_count": 9,
   "id": "daffdfe0-d57f-414f-89eb-b427ea4096cc",
   "metadata": {},
   "outputs": [
    {
     "name": "stdout",
     "output_type": "stream",
     "text": [
      "Budi bisa bermain\n"
     ]
    }
   ],
   "source": [
    "cuaca = True\n",
    "pr = False\n",
    "\n",
    "if cuaca or pr :\n",
    "    print (\"Budi bisa bermain\")\n",
    "else :\n",
    "    print(\"Budi tidak bisa bermain\")"
   ]
  },
  {
   "cell_type": "markdown",
   "id": "9eef86b7-560b-4a40-99cf-195d554b1c15",
   "metadata": {},
   "source": [
    "<h1>Operator Bitwise</h1>"
   ]
  },
  {
   "cell_type": "code",
   "execution_count": 12,
   "id": "24bca6c1-89b0-4013-a68c-12df6a7f8736",
   "metadata": {},
   "outputs": [
    {
     "name": "stdin",
     "output_type": "stream",
     "text": [
      "Masukkan bilangan 28\n",
      "Masukkan bilangan 28\n"
     ]
    },
    {
     "name": "stdout",
     "output_type": "stream",
     "text": [
      "Biner dari bilangan 28): 0b11100\n",
      "Biner dari bilangan 28): 0b11100\n",
      "AND :\n",
      "0b11100\n",
      "0b11100\n",
      "0b11100\n",
      "Hasilnya adalah 28\n",
      "\n",
      "OR :\n",
      "0b11100\n",
      "0b11100\n",
      "0b11100\n",
      "Hasilnya adalah 28\n",
      "\n",
      "XOR :\n",
      "0b11100\n",
      "0b11100\n",
      "0b0\n",
      "Hasilnya adalah 0\n",
      "\n"
     ]
    }
   ],
   "source": [
    "bil1 = int(input('Masukkan bilangan'))\n",
    "bil2 = int(input('Masukkan bilangan'))\n",
    "\n",
    "print(f\"Biner dari bilangan {bil1}): {bin(bil1)}\")\n",
    "print(f\"Biner dari bilangan {bil2}): {bin(bil2)}\")\n",
    "\n",
    "print(\"AND :\")\n",
    "AND = bil1 & bil2\n",
    "print (bin(bil1))\n",
    "print (bin(bil2))\n",
    "print (bin(AND))\n",
    "print (f\"Hasilnya adalah {AND}\\n\") #hasil AND\n",
    "\n",
    "print(\"OR :\")\n",
    "OR = bil1 | bil2\n",
    "print (bin(bil1))\n",
    "print (bin(bil2))\n",
    "print (bin(OR))\n",
    "print (f\"Hasilnya adalah {OR}\\n\") #hasil OR\n",
    "\n",
    "print(\"XOR :\")\n",
    "XOR = bil1 ^ bil2\n",
    "print (bin(bil1))\n",
    "print (bin(bil2))\n",
    "print (bin(XOR))\n",
    "print (f\"Hasilnya adalah {XOR}\\n\") #hasil XOR"
   ]
  },
  {
   "cell_type": "markdown",
   "id": "fcdd7023-54a0-4cfc-bbc0-cb64ee188653",
   "metadata": {},
   "source": [
    "<h1>Operator Penugasan<h1>"
   ]
  },
  {
   "cell_type": "code",
   "execution_count": 15,
   "id": "6cc6c550-8529-44ef-a17e-4f8f0358713b",
   "metadata": {},
   "outputs": [
    {
     "name": "stdout",
     "output_type": "stream",
     "text": [
      "Sisa saldo pulsa sekarang 40000\n"
     ]
    }
   ],
   "source": [
    "pulsa = 50000 #saldo awal\n",
    "pulsa += 20000 #tambah saldo\n",
    "pulsa -= 30000 #berkurang saldo\n",
    "\n",
    "print(f\"Sisa saldo pulsa sekarang {pulsa}\")"
   ]
  },
  {
   "cell_type": "markdown",
   "id": "a05eca75-25f0-4743-9e31-d47effde31db",
   "metadata": {},
   "source": [
    "<h1>Operator Keanggotaan</h1>"
   ]
  },
  {
   "cell_type": "code",
   "execution_count": 18,
   "id": "5c267fc2-b3a5-46c9-a498-73dab69cce76",
   "metadata": {},
   "outputs": [
    {
     "name": "stdin",
     "output_type": "stream",
     "text": [
      "Masukkan nama : Daffa\n"
     ]
    },
    {
     "name": "stdout",
     "output_type": "stream",
     "text": [
      "False\n",
      "False\n",
      "True\n",
      "True\n"
     ]
    }
   ],
   "source": [
    "name = input (\"Masukkan nama :\")\n",
    "listName = [\"Andi\", \"Budi\", \"Citra\", \"Dewi\"]\n",
    "print (name in listName)\n",
    "print (name in listName [0])\n",
    "print (name not in listName)\n",
    "print (name not in listName [0])"
   ]
  },
  {
   "cell_type": "code",
   "execution_count": 20,
   "id": "87b3660e-85c4-4930-bcd7-46147dac087d",
   "metadata": {},
   "outputs": [
    {
     "name": "stdin",
     "output_type": "stream",
     "text": [
      "Masukkan kata : Daffa\n"
     ]
    },
    {
     "name": "stdout",
     "output_type": "stream",
     "text": [
      "False\n",
      "False\n",
      "True\n",
      "True\n"
     ]
    }
   ],
   "source": [
    "kata = input(\"Masukkan kata :\")\n",
    "listKata = \"Saya suka belajar python\"\n",
    "print(kata in listKata)\n",
    "print(kata in listKata [0])\n",
    "print(kata not in listKata)\n",
    "print(kata not in listKata [0])\n"
   ]
  },
  {
   "cell_type": "markdown",
   "id": "c463fe00-62d8-4476-b152-1480d022d49e",
   "metadata": {},
   "source": [
    "<h1>Operator Identitas</h1>"
   ]
  },
  {
   "cell_type": "code",
   "execution_count": 23,
   "id": "7206f58a-b852-48ef-b0f3-e989fce6792c",
   "metadata": {},
   "outputs": [
    {
     "name": "stdout",
     "output_type": "stream",
     "text": [
      "Memori dari x 140731388013112\n",
      "Memori dari y 140731388013112\n",
      "True\n",
      "False\n"
     ]
    }
   ],
   "source": [
    "x = 5\n",
    "y = 5 \n",
    "\n",
    "print (\"Memori dari x\", id(x))\n",
    "print (\"Memori dari y\", id(y))\n",
    "print( x is y )\n",
    "print ( x is not y)"
   ]
  },
  {
   "cell_type": "code",
   "execution_count": 25,
   "id": "fd541d5b-4d25-4cf0-a301-f2e5a06db066",
   "metadata": {},
   "outputs": [
    {
     "name": "stdout",
     "output_type": "stream",
     "text": [
      "True\n",
      "False\n"
     ]
    }
   ],
   "source": [
    "list1 = [3, 5, 7]\n",
    "list2 = [3, 5, 7]\n",
    "\n",
    "list1 = list2\n",
    "\n",
    "print(list1 is list2)\n",
    "print(list1 is not list2)"
   ]
  },
  {
   "cell_type": "markdown",
   "id": "4f294420-df26-4c4f-97d9-c55bc7c36c93",
   "metadata": {},
   "source": [
    "<h1>Operator Ternary<h1></h1>"
   ]
  },
  {
   "cell_type": "code",
   "execution_count": 29,
   "id": "2d274481-96fb-4679-9724-aad7de4c3d0e",
   "metadata": {},
   "outputs": [
    {
     "name": "stdin",
     "output_type": "stream",
     "text": [
      "Masukkan angka : 17\n"
     ]
    },
    {
     "name": "stdout",
     "output_type": "stream",
     "text": [
      "Lebih kecil dari 100\n"
     ]
    }
   ],
   "source": [
    "number = int(input(\"Masukkan angka :\"))\n",
    "hasil = \"Lebih besar dari 100\" if number >= 100 else \"Lebih kecil dari 100\"\n",
    "print(hasil)"
   ]
  },
  {
   "cell_type": "code",
   "execution_count": 31,
   "id": "3478cec6-dd74-438e-a893-afb07ea0858a",
   "metadata": {},
   "outputs": [
    {
     "name": "stdin",
     "output_type": "stream",
     "text": [
      "Masukkan nilai : 80\n",
      "Masukkan nilai : 70\n"
     ]
    },
    {
     "name": "stdout",
     "output_type": "stream",
     "text": [
      "LULUS\n",
      "LULUS\n"
     ]
    }
   ],
   "source": [
    "nilai = int(input(\"Masukkan nilai :\"))\n",
    "nilai2 = int (input(\"Masukkan nilai :\"))\n",
    "\n",
    "status = \"LULUS\" if nilai >= 70 else \"Tidak lulus\"\n",
    "status2 = \"LULUS\" if nilai2 >= 70 else \"Tidak lulus\"\n",
    "print(status)\n",
    "print(status2)"
   ]
  }
 ],
 "metadata": {
  "kernelspec": {
   "display_name": "Python [conda env:base] *",
   "language": "python",
   "name": "conda-base-py"
  },
  "language_info": {
   "codemirror_mode": {
    "name": "ipython",
    "version": 3
   },
   "file_extension": ".py",
   "mimetype": "text/x-python",
   "name": "python",
   "nbconvert_exporter": "python",
   "pygments_lexer": "ipython3",
   "version": "3.12.7"
  }
 },
 "nbformat": 4,
 "nbformat_minor": 5
}
