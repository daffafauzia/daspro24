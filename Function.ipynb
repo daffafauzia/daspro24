{
 "cells": [
  {
   "cell_type": "code",
   "execution_count": 2,
   "id": "2fa7cf1e-f94b-47d3-a182-7ef96586768b",
   "metadata": {},
   "outputs": [
    {
     "name": "stdout",
     "output_type": "stream",
     "text": [
      "UKA ATNIC UMAK\n",
      "PYTHON HARI BELAJAR SEDANG INI\n",
      "Ak|_| C1nt4 K4m|_|\n",
      "4ku Cinta Kamu\n"
     ]
    }
   ],
   "source": [
    "# Fungsi 1: Mereverse setiap kata dalam kalimat\n",
    "def reverse_per_kata(kalimat):\n",
    "    \"\"\"\n",
    "    Membalik setiap kata dalam kalimat tanpa mengubah urutan kata.\n",
    "    Contoh: \"AKU CINTA KAMU\" -> \"UKA ATNIC UMAK\"\n",
    "    \"\"\"\n",
    "    kata_kata = kalimat.split()\n",
    "    hasil = []\n",
    "    for kata in kata_kata:\n",
    "        hasil.append(kata[::-1])\n",
    "    return ' '.join(hasil)\n",
    "\n",
    "# Fungsi 2: Mengurutkan kata berdasarkan indeks list\n",
    "def urutkan_kalimat(kalimat, urutan):\n",
    "    \"\"\"\n",
    "    Mengurutkan kata-kata dalam kalimat berdasarkan list urutan.\n",
    "    Indeks dalam urutan dimulai dari 1.\n",
    "    Contoh: \"HARI INI SEDANG BELAJAR PYTHON\" dan [5,1,4,3,2] \n",
    "    -> \"PYTHON HARI BELAJAR SEDANG INI\"\n",
    "    \"\"\"\n",
    "    kata_kata = kalimat.split()\n",
    "    hasil = [''] * len(kata_kata)\n",
    "    for i in range(len(urutan)):\n",
    "        hasil[i] = kata_kata[urutan[i] - 1]\n",
    "    return ' '.join(hasil)\n",
    "\n",
    "# Fungsi 3: Mengganti huruf vokal dengan simbol tertentu\n",
    "def ganti_vokal(kalimat, opsi):\n",
    "    \"\"\"\n",
    "    Mengganti huruf vokal dengan simbol:\n",
    "    a/A → 4, i/I → 1, u/U → |_|, e/E → 3, o/O → 0\n",
    "    Jika opsi = 1, hanya huruf vokal kecil yang diganti.\n",
    "    Jika opsi = 2, hanya huruf vokal kapital yang diganti.\n",
    "    \"\"\"\n",
    "    vokal_kecil = {'a': '4', 'i': '1', 'u': '|_|', 'e': '3', 'o': '0'}\n",
    "    vokal_besar = {'A': '4', 'I': '1', 'U': '|_|', 'E': '3', 'O': '0'}\n",
    "    hasil = ''\n",
    "    for huruf in kalimat:\n",
    "        if opsi == 1 and huruf in vokal_kecil:\n",
    "            hasil += vokal_kecil[huruf]\n",
    "        elif opsi == 2 and huruf in vokal_besar:\n",
    "            hasil += vokal_besar[huruf]\n",
    "        else:\n",
    "            hasil += huruf\n",
    "    return hasil\n",
    "\n",
    "# =======================\n",
    "# UJI COBA (Hardcoded)\n",
    "# =======================\n",
    "print(reverse_per_kata(\"AKU CINTA KAMU\"))\n",
    "# Output: \"UKA ATNIC UMAK\"\n",
    "\n",
    "print(urutkan_kalimat(\"HARI INI SEDANG BELAJAR PYTHON\", [5, 1, 4, 3, 2]))\n",
    "# Output: \"PYTHON HARI BELAJAR SEDANG INI\"\n",
    "\n",
    "print(ganti_vokal(\"Aku Cinta Kamu\", 1))\n",
    "# Output: \"Ak|| C1nt4 K4m||\"\n",
    "\n",
    "print(ganti_vokal(\"Aku Cinta Kamu\", 2))\n",
    "# Output: \"4ku Cinta Kamu\"\n"
   ]
  },
  {
   "cell_type": "code",
   "execution_count": null,
   "id": "8a87f158-c24a-4a46-91a7-63c66db3c5b4",
   "metadata": {},
   "outputs": [],
   "source": [
    "#Fungsi 1:Mereverse setiap kata dalam kalimat\n",
    "def reserve_per_kata(kalimat):\n",
    "    \"\"\"\n",
    "    Membalik setiap kata dalam kalimat tanpa mengubah urutan kata.\n",
    "    Contoh:\"AKU CINTA KAMU\""
   ]
  }
 ],
 "metadata": {
  "kernelspec": {
   "display_name": "Python [conda env:base] *",
   "language": "python",
   "name": "conda-base-py"
  },
  "language_info": {
   "codemirror_mode": {
    "name": "ipython",
    "version": 3
   },
   "file_extension": ".py",
   "mimetype": "text/x-python",
   "name": "python",
   "nbconvert_exporter": "python",
   "pygments_lexer": "ipython3",
   "version": "3.12.7"
  }
 },
 "nbformat": 4,
 "nbformat_minor": 5
}
